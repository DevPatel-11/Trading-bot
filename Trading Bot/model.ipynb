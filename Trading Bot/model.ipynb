{
 "cells": [
  {
   "cell_type": "code",
   "execution_count": 1,
   "metadata": {},
   "outputs": [],
   "source": [
    "import yfinance as yf\n",
    "import pandas as pd\n",
    "from datetime import datetime\n",
    "from sklearn.preprocessing import MinMaxScaler\n",
    "import ta\n",
    "import numpy as np\n",
    "from tensorflow.keras.models import Sequential\n",
    "from tensorflow.keras.layers import LSTM, Dense\n",
    "from tensorflow.keras.layers import Input\n",
    "from sklearn.metrics import classification_report, confusion_matrix\n",
    "import tensorflow as tf\n",
    "from sklearn.model_selection import train_test_split\n",
    "from tensorflow.keras import regularizers\n",
    "from tensorflow.keras.callbacks import EarlyStopping"
   ]
  },
  {
   "cell_type": "code",
   "execution_count": 2,
   "metadata": {},
   "outputs": [],
   "source": [
    "# Set TensorFlow logging level\n",
    "tf.get_logger().setLevel('ERROR')"
   ]
  },
  {
   "cell_type": "code",
   "execution_count": 3,
   "metadata": {},
   "outputs": [
    {
     "name": "stderr",
     "output_type": "stream",
     "text": [
      "[*********************100%***********************]  1 of 1 completed\n"
     ]
    }
   ],
   "source": [
    "# Fetch data for a stock (e.g., Apple) from a start date till today\n",
    "today = datetime.today().strftime('%Y-%m-%d')\n",
    "data = yf.download(\"MSFT\", start=\"2022-01-01\", end=today)"
   ]
  },
  {
   "cell_type": "code",
   "execution_count": 4,
   "metadata": {},
   "outputs": [],
   "source": [
    "# Calculate technical indicators\n",
    "data['SMA_20'] = data['Close'].rolling(window=20).mean()\n",
    "data['SMA_50'] = data['Close'].rolling(window=50).mean()\n",
    "data['RSI'] = ta.momentum.RSIIndicator(data['Close']).rsi()\n",
    "data['MACD'] = ta.trend.MACD(data['Close']).macd_diff()\n",
    "\n",
    "# Lag features\n",
    "data['Lag_1'] = data['Close'].shift(1)"
   ]
  },
  {
   "cell_type": "code",
   "execution_count": 5,
   "metadata": {},
   "outputs": [],
   "source": [
    "# Clip outliers\n",
    "data['Close'] = data['Close'].clip(lower=data['Close'].quantile(0.05), upper=data['Close'].quantile(0.95))"
   ]
  },
  {
   "cell_type": "code",
   "execution_count": 6,
   "metadata": {},
   "outputs": [],
   "source": [
    "# Percentage change in closing price\n",
    "data['Price_Change'] = data['Close'].pct_change()"
   ]
  },
  {
   "cell_type": "code",
   "execution_count": 7,
   "metadata": {},
   "outputs": [],
   "source": [
    "# Binary classification: 1 for price increase, 0 for decrease or no change\n",
    "data['Target'] = data['Price_Change'].apply(lambda x: 1 if x > 0 else 0)"
   ]
  },
  {
   "cell_type": "code",
   "execution_count": 8,
   "metadata": {},
   "outputs": [],
   "source": [
    "# Shift labels to align with features\n",
    "data['Target'] = data['Target'].shift(-1)"
   ]
  },
  {
   "cell_type": "code",
   "execution_count": 9,
   "metadata": {},
   "outputs": [],
   "source": [
    "# Handle NaNs in the features before scaling\n",
    "data.ffill(inplace=True)\n",
    "data.dropna(inplace=True)  # Drop any remaining NaNs, if necessary"
   ]
  },
  {
   "cell_type": "code",
   "execution_count": 10,
   "metadata": {},
   "outputs": [
    {
     "name": "stdout",
     "output_type": "stream",
     "text": [
      "               Close    Volume    SMA_20    SMA_50       RSI      MACD\n",
      "Date                                                                  \n",
      "2022-03-15  0.258590  0.325669  0.258576  0.311933  0.405958  0.565335\n",
      "2022-03-16  0.296395  0.372237  0.257209  0.307940  0.493969  0.681291\n",
      "2022-03-17  0.300728  0.281085  0.256247  0.304597  0.503758  0.762339\n",
      "2022-03-18  0.327933  0.444594  0.258427  0.303019  0.564725  0.852818\n",
      "2022-03-21  0.321302  0.249026  0.260952  0.301563  0.546667  0.890707\n",
      "               Close    Volume    SMA_20    SMA_50       RSI      MACD\n",
      "Date                                                                  \n",
      "2024-08-21  0.973905  0.089290  0.819698  0.981411  0.505734  0.977280\n",
      "2024-08-22  0.929051  0.132132  0.819057  0.979716  0.371686  0.906796\n",
      "2024-08-23  0.935526  0.120843  0.817151  0.977315  0.393331  0.863401\n",
      "2024-08-26  0.918294  0.051391  0.814175  0.974536  0.344655  0.801395\n",
      "2024-08-27  0.920122  0.055566  0.812133  0.971694  0.351467  0.760455\n"
     ]
    }
   ],
   "source": [
    "# Features to scale\n",
    "features_to_scale = ['Close', 'Volume', 'SMA_20', 'SMA_50', 'RSI', 'MACD']\n",
    "\n",
    "# Initialize the scaler\n",
    "scaler = MinMaxScaler(feature_range=(0, 1))\n",
    "\n",
    "# Apply scaling\n",
    "data[features_to_scale] = scaler.fit_transform(data[features_to_scale])\n",
    "\n",
    "# Verify the scaling\n",
    "print(data[features_to_scale].head())\n",
    "print(data[features_to_scale].tail())"
   ]
  },
  {
   "cell_type": "code",
   "execution_count": 11,
   "metadata": {},
   "outputs": [],
   "source": [
    "# Prepare features and labels\n",
    "X = data[['SMA_20', 'SMA_50', 'RSI', 'MACD', 'Lag_1']].values\n",
    "y = data['Target'].values\n",
    "\n",
    "X = X.reshape((X.shape[0], 1, X.shape[1]))"
   ]
  },
  {
   "cell_type": "code",
   "execution_count": 12,
   "metadata": {},
   "outputs": [],
   "source": [
    "# Define LSTM model with dropout and regularization\n",
    "model = Sequential()\n",
    "model.add(Input(shape=(X.shape[1], X.shape[2])))\n",
    "model.add(LSTM(50, return_sequences=True, dropout=0.2, kernel_regularizer=regularizers.l2(0.01)))\n",
    "model.add(LSTM(50, dropout=0.2, kernel_regularizer=regularizers.l2(0.01)))\n",
    "model.add(Dense(1, activation='sigmoid'))\n",
    "\n",
    "model.compile(optimizer='adam', loss='binary_crossentropy', metrics=['accuracy'])"
   ]
  },
  {
   "cell_type": "code",
   "execution_count": 13,
   "metadata": {},
   "outputs": [],
   "source": [
    "# Use early stopping\n",
    "early_stopping = EarlyStopping(monitor='val_loss', patience=5, restore_best_weights=True)\n"
   ]
  },
  {
   "cell_type": "code",
   "execution_count": 14,
   "metadata": {},
   "outputs": [],
   "source": [
    "# Split data into training and test sets\n",
    "X_train, X_test, y_train, y_test = train_test_split(X, y, test_size=0.2, shuffle=False)"
   ]
  },
  {
   "cell_type": "code",
   "execution_count": 15,
   "metadata": {},
   "outputs": [
    {
     "name": "stdout",
     "output_type": "stream",
     "text": [
      "Epoch 1/50\n",
      "\u001b[1m13/13\u001b[0m \u001b[32m━━━━━━━━━━━━━━━━━━━━\u001b[0m\u001b[37m\u001b[0m \u001b[1m8s\u001b[0m 131ms/step - accuracy: 0.5133 - loss: 1.5426 - val_accuracy: 0.4242 - val_loss: 1.4058\n",
      "Epoch 2/50\n",
      "\u001b[1m13/13\u001b[0m \u001b[32m━━━━━━━━━━━━━━━━━━━━\u001b[0m\u001b[37m\u001b[0m \u001b[1m0s\u001b[0m 10ms/step - accuracy: 0.5435 - loss: 1.3489 - val_accuracy: 0.4242 - val_loss: 1.2434\n",
      "Epoch 3/50\n",
      "\u001b[1m13/13\u001b[0m \u001b[32m━━━━━━━━━━━━━━━━━━━━\u001b[0m\u001b[37m\u001b[0m \u001b[1m0s\u001b[0m 13ms/step - accuracy: 0.5505 - loss: 1.1944 - val_accuracy: 0.4242 - val_loss: 1.1117\n",
      "Epoch 4/50\n",
      "\u001b[1m13/13\u001b[0m \u001b[32m━━━━━━━━━━━━━━━━━━━━\u001b[0m\u001b[37m\u001b[0m \u001b[1m0s\u001b[0m 10ms/step - accuracy: 0.5297 - loss: 1.0739 - val_accuracy: 0.4242 - val_loss: 1.0076\n",
      "Epoch 5/50\n",
      "\u001b[1m13/13\u001b[0m \u001b[32m━━━━━━━━━━━━━━━━━━━━\u001b[0m\u001b[37m\u001b[0m \u001b[1m0s\u001b[0m 8ms/step - accuracy: 0.5513 - loss: 0.9785 - val_accuracy: 0.4242 - val_loss: 0.9328\n",
      "Epoch 6/50\n",
      "\u001b[1m13/13\u001b[0m \u001b[32m━━━━━━━━━━━━━━━━━━━━\u001b[0m\u001b[37m\u001b[0m \u001b[1m0s\u001b[0m 8ms/step - accuracy: 0.5419 - loss: 0.9045 - val_accuracy: 0.4242 - val_loss: 0.8780\n",
      "Epoch 7/50\n",
      "\u001b[1m13/13\u001b[0m \u001b[32m━━━━━━━━━━━━━━━━━━━━\u001b[0m\u001b[37m\u001b[0m \u001b[1m0s\u001b[0m 8ms/step - accuracy: 0.5142 - loss: 0.8551 - val_accuracy: 0.4242 - val_loss: 0.8318\n",
      "Epoch 8/50\n",
      "\u001b[1m13/13\u001b[0m \u001b[32m━━━━━━━━━━━━━━━━━━━━\u001b[0m\u001b[37m\u001b[0m \u001b[1m0s\u001b[0m 9ms/step - accuracy: 0.5052 - loss: 0.8114 - val_accuracy: 0.4242 - val_loss: 0.8006\n",
      "Epoch 9/50\n",
      "\u001b[1m13/13\u001b[0m \u001b[32m━━━━━━━━━━━━━━━━━━━━\u001b[0m\u001b[37m\u001b[0m \u001b[1m0s\u001b[0m 8ms/step - accuracy: 0.5329 - loss: 0.7789 - val_accuracy: 0.4242 - val_loss: 0.7744\n",
      "Epoch 10/50\n",
      "\u001b[1m13/13\u001b[0m \u001b[32m━━━━━━━━━━━━━━━━━━━━\u001b[0m\u001b[37m\u001b[0m \u001b[1m0s\u001b[0m 8ms/step - accuracy: 0.5169 - loss: 0.7602 - val_accuracy: 0.4242 - val_loss: 0.7499\n",
      "Epoch 11/50\n",
      "\u001b[1m13/13\u001b[0m \u001b[32m━━━━━━━━━━━━━━━━━━━━\u001b[0m\u001b[37m\u001b[0m \u001b[1m0s\u001b[0m 8ms/step - accuracy: 0.5366 - loss: 0.7392 - val_accuracy: 0.4242 - val_loss: 0.7382\n",
      "Epoch 12/50\n",
      "\u001b[1m13/13\u001b[0m \u001b[32m━━━━━━━━━━━━━━━━━━━━\u001b[0m\u001b[37m\u001b[0m \u001b[1m0s\u001b[0m 10ms/step - accuracy: 0.5376 - loss: 0.7255 - val_accuracy: 0.4242 - val_loss: 0.7276\n",
      "Epoch 13/50\n",
      "\u001b[1m13/13\u001b[0m \u001b[32m━━━━━━━━━━━━━━━━━━━━\u001b[0m\u001b[37m\u001b[0m \u001b[1m0s\u001b[0m 11ms/step - accuracy: 0.5545 - loss: 0.7141 - val_accuracy: 0.4242 - val_loss: 0.7273\n",
      "Epoch 14/50\n",
      "\u001b[1m13/13\u001b[0m \u001b[32m━━━━━━━━━━━━━━━━━━━━\u001b[0m\u001b[37m\u001b[0m \u001b[1m0s\u001b[0m 9ms/step - accuracy: 0.5506 - loss: 0.7090 - val_accuracy: 0.4242 - val_loss: 0.7195\n",
      "Epoch 15/50\n",
      "\u001b[1m13/13\u001b[0m \u001b[32m━━━━━━━━━━━━━━━━━━━━\u001b[0m\u001b[37m\u001b[0m \u001b[1m0s\u001b[0m 12ms/step - accuracy: 0.5377 - loss: 0.7043 - val_accuracy: 0.4242 - val_loss: 0.7143\n",
      "Epoch 16/50\n",
      "\u001b[1m13/13\u001b[0m \u001b[32m━━━━━━━━━━━━━━━━━━━━\u001b[0m\u001b[37m\u001b[0m \u001b[1m0s\u001b[0m 8ms/step - accuracy: 0.5192 - loss: 0.7035 - val_accuracy: 0.4242 - val_loss: 0.7099\n",
      "Epoch 17/50\n",
      "\u001b[1m13/13\u001b[0m \u001b[32m━━━━━━━━━━━━━━━━━━━━\u001b[0m\u001b[37m\u001b[0m \u001b[1m0s\u001b[0m 8ms/step - accuracy: 0.5481 - loss: 0.6974 - val_accuracy: 0.4242 - val_loss: 0.7062\n",
      "Epoch 18/50\n",
      "\u001b[1m13/13\u001b[0m \u001b[32m━━━━━━━━━━━━━━━━━━━━\u001b[0m\u001b[37m\u001b[0m \u001b[1m0s\u001b[0m 8ms/step - accuracy: 0.5173 - loss: 0.6984 - val_accuracy: 0.4242 - val_loss: 0.7053\n",
      "Epoch 19/50\n",
      "\u001b[1m13/13\u001b[0m \u001b[32m━━━━━━━━━━━━━━━━━━━━\u001b[0m\u001b[37m\u001b[0m \u001b[1m0s\u001b[0m 8ms/step - accuracy: 0.5318 - loss: 0.6960 - val_accuracy: 0.4242 - val_loss: 0.7073\n",
      "Epoch 20/50\n",
      "\u001b[1m13/13\u001b[0m \u001b[32m━━━━━━━━━━━━━━━━━━━━\u001b[0m\u001b[37m\u001b[0m \u001b[1m0s\u001b[0m 13ms/step - accuracy: 0.5459 - loss: 0.6929 - val_accuracy: 0.4242 - val_loss: 0.7134\n",
      "Epoch 21/50\n",
      "\u001b[1m13/13\u001b[0m \u001b[32m━━━━━━━━━━━━━━━━━━━━\u001b[0m\u001b[37m\u001b[0m \u001b[1m0s\u001b[0m 8ms/step - accuracy: 0.5199 - loss: 0.6980 - val_accuracy: 0.4242 - val_loss: 0.7064\n",
      "Epoch 22/50\n",
      "\u001b[1m13/13\u001b[0m \u001b[32m━━━━━━━━━━━━━━━━━━━━\u001b[0m\u001b[37m\u001b[0m \u001b[1m0s\u001b[0m 10ms/step - accuracy: 0.5223 - loss: 0.6951 - val_accuracy: 0.4242 - val_loss: 0.7091\n",
      "Epoch 23/50\n",
      "\u001b[1m13/13\u001b[0m \u001b[32m━━━━━━━━━━━━━━━━━━━━\u001b[0m\u001b[37m\u001b[0m \u001b[1m0s\u001b[0m 10ms/step - accuracy: 0.4956 - loss: 0.6980 - val_accuracy: 0.4242 - val_loss: 0.7123\n"
     ]
    },
    {
     "data": {
      "text/plain": [
       "<keras.src.callbacks.history.History at 0x26d79fe9f90>"
      ]
     },
     "execution_count": 15,
     "metadata": {},
     "output_type": "execute_result"
    }
   ],
   "source": [
    "# Train the model\n",
    "model.fit(X_train, y_train, epochs=50, batch_size=32, validation_split=0.2, callbacks=[early_stopping])"
   ]
  },
  {
   "cell_type": "code",
   "execution_count": 16,
   "metadata": {},
   "outputs": [
    {
     "name": "stdout",
     "output_type": "stream",
     "text": [
      "\u001b[1m4/4\u001b[0m \u001b[32m━━━━━━━━━━━━━━━━━━━━\u001b[0m\u001b[37m\u001b[0m \u001b[1m1s\u001b[0m 263ms/step\n"
     ]
    }
   ],
   "source": [
    "# Predict on the test data\n",
    "predictions = (model.predict(X_test) > 0.5).astype(int)"
   ]
  },
  {
   "cell_type": "code",
   "execution_count": 17,
   "metadata": {},
   "outputs": [
    {
     "name": "stdout",
     "output_type": "stream",
     "text": [
      "              precision    recall  f1-score   support\n",
      "\n",
      "         0.0       0.60      1.00      0.75        75\n",
      "         1.0       1.00      0.00      0.00        49\n",
      "\n",
      "    accuracy                           0.60       124\n",
      "   macro avg       0.80      0.50      0.38       124\n",
      "weighted avg       0.76      0.60      0.46       124\n",
      "\n",
      "[[75  0]\n",
      " [49  0]]\n",
      "Predictions distribution: {0: 124}\n"
     ]
    }
   ],
   "source": [
    "# Evaluate the model\n",
    "print(classification_report(y_test, predictions, zero_division=1))\n",
    "print(confusion_matrix(y_test, predictions))\n",
    "\n",
    "# Check the distribution of predictions\n",
    "unique, counts = np.unique(predictions, return_counts=True)\n",
    "print(\"Predictions distribution:\", dict(zip(unique, counts)))"
   ]
  }
 ],
 "metadata": {
  "kernelspec": {
   "display_name": "Python 3",
   "language": "python",
   "name": "python3"
  },
  "language_info": {
   "codemirror_mode": {
    "name": "ipython",
    "version": 3
   },
   "file_extension": ".py",
   "mimetype": "text/x-python",
   "name": "python",
   "nbconvert_exporter": "python",
   "pygments_lexer": "ipython3",
   "version": "3.11.7"
  }
 },
 "nbformat": 4,
 "nbformat_minor": 2
}
